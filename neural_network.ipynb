{
 "cells": [
  {
   "cell_type": "code",
   "execution_count": 1,
   "id": "ec89cbe7",
   "metadata": {},
   "outputs": [],
   "source": [
    "import numpy as np\n",
    "import pandas as pd\n",
    "import tensorflow as tf\n",
    "from sklearn.model_selection import train_test_split\n",
    "from sklearn.preprocessing import StandardScaler\n",
    "from sklearn.compose import ColumnTransformer\n",
    "from sklearn.preprocessing import OneHotEncoder\n",
    "from sklearn.preprocessing import LabelEncoder\n",
    "from sklearn.metrics import accuracy_score, precision_score, f1_score"
   ]
  },
  {
   "cell_type": "code",
   "execution_count": 2,
   "id": "1bd850af",
   "metadata": {},
   "outputs": [],
   "source": [
    "data = pd.read_csv('titanic.csv')"
   ]
  },
  {
   "cell_type": "code",
   "execution_count": 3,
   "id": "c421a2af",
   "metadata": {},
   "outputs": [],
   "source": [
    "# select relevant features (columns) for training\n",
    "features = [\"pclass\", \"sex\", \"age\", \"sibsp\", \"parch\", \"fare\", \"embarked\"]\n",
    "target = \"survived\"\n",
    "\n",
    "# handle missing values\n",
    "data = data[features + [target]].dropna()\n",
    "\n",
    "X = data[features]\n",
    "y = data[target]"
   ]
  },
  {
   "cell_type": "markdown",
   "id": "c9a0cda8",
   "metadata": {},
   "source": [
    "## Preprocessing"
   ]
  },
  {
   "cell_type": "code",
   "execution_count": 4,
   "id": "b363bda1",
   "metadata": {},
   "outputs": [
    {
     "name": "stderr",
     "output_type": "stream",
     "text": [
      "/var/folders/9r/8xlgm3yj4gj9dndpdbqg4xd00000gn/T/ipykernel_3901/1837508742.py:2: SettingWithCopyWarning: \n",
      "A value is trying to be set on a copy of a slice from a DataFrame.\n",
      "Try using .loc[row_indexer,col_indexer] = value instead\n",
      "\n",
      "See the caveats in the documentation: https://pandas.pydata.org/pandas-docs/stable/user_guide/indexing.html#returning-a-view-versus-a-copy\n",
      "  X[\"sex\"] = (X[\"sex\"] == \"female\").astype(int)\n"
     ]
    }
   ],
   "source": [
    "# transform binary categorical variables to 1/0\n",
    "X[\"sex\"] = (X[\"sex\"] == \"female\").astype(int)\n",
    "\n",
    "# transform categorical variables to matrix\n",
    "ct = ColumnTransformer(transformers=[('encoder', OneHotEncoder(), ['embarked'])], remainder='passthrough')\n",
    "X = np.array(ct.fit_transform(X))"
   ]
  },
  {
   "cell_type": "code",
   "execution_count": 5,
   "id": "34b2ab76",
   "metadata": {},
   "outputs": [],
   "source": [
    "# split data into test and train\n",
    "X_train, X_test, y_train, y_test = train_test_split(X, y, test_size=0.2, random_state=0)"
   ]
  },
  {
   "cell_type": "code",
   "execution_count": 6,
   "id": "872f4954",
   "metadata": {},
   "outputs": [],
   "source": [
    "# normalize features\n",
    "sc = StandardScaler()\n",
    "X_train = sc.fit_transform(X_train)\n",
    "X_test = sc.transform(X_test)"
   ]
  },
  {
   "cell_type": "markdown",
   "id": "57fd1602",
   "metadata": {},
   "source": [
    "## Building the ANN"
   ]
  },
  {
   "cell_type": "code",
   "execution_count": 7,
   "id": "34c01079",
   "metadata": {},
   "outputs": [],
   "source": [
    "ann = tf.keras.models.Sequential()\n",
    "\n",
    "# add the input layer and the first hidden layer\n",
    "ann.add(tf.keras.layers.Dense(units=6,activation='relu'))\n",
    "\n",
    "# add hidden layers\n",
    "for _ in range(3):\n",
    "    ann.add(tf.keras.layers.Dense(units=6, activation='relu'))\n",
    "\n",
    "# add the output layer\n",
    "ann.add(tf.keras.layers.Dense(units=1,activation='sigmoid'))"
   ]
  },
  {
   "cell_type": "markdown",
   "id": "5626d042",
   "metadata": {},
   "source": [
    "## Training the ANN"
   ]
  },
  {
   "cell_type": "code",
   "execution_count": 8,
   "id": "45c88f3f",
   "metadata": {},
   "outputs": [],
   "source": [
    "# compile the ANN\n",
    "ann.compile(optimizer='adam', loss='binary_crossentropy', metrics=['accuracy'])"
   ]
  },
  {
   "cell_type": "code",
   "execution_count": 9,
   "id": "20a9d6f1",
   "metadata": {},
   "outputs": [
    {
     "name": "stdout",
     "output_type": "stream",
     "text": [
      "Epoch 1/100\n"
     ]
    },
    {
     "name": "stderr",
     "output_type": "stream",
     "text": [
      "2024-05-12 21:30:48.135491: W tensorflow/tsl/platform/profile_utils/cpu_utils.cc:128] Failed to get CPU frequency: 0 Hz\n"
     ]
    },
    {
     "name": "stdout",
     "output_type": "stream",
     "text": [
      "417/417 [==============================] - 0s 387us/step - loss: 0.6693 - accuracy: 0.6199\n",
      "Epoch 2/100\n",
      "417/417 [==============================] - 0s 356us/step - loss: 0.6059 - accuracy: 0.7074\n",
      "Epoch 3/100\n",
      "417/417 [==============================] - 0s 329us/step - loss: 0.5258 - accuracy: 0.7614\n",
      "Epoch 4/100\n",
      "417/417 [==============================] - 0s 329us/step - loss: 0.4817 - accuracy: 0.7698\n",
      "Epoch 5/100\n",
      "417/417 [==============================] - 0s 327us/step - loss: 0.4629 - accuracy: 0.7806\n",
      "Epoch 6/100\n",
      "417/417 [==============================] - 0s 328us/step - loss: 0.4551 - accuracy: 0.7854\n",
      "Epoch 7/100\n",
      "417/417 [==============================] - 0s 328us/step - loss: 0.4508 - accuracy: 0.7950\n",
      "Epoch 8/100\n",
      "417/417 [==============================] - 0s 330us/step - loss: 0.4429 - accuracy: 0.7998\n",
      "Epoch 9/100\n",
      "417/417 [==============================] - 0s 330us/step - loss: 0.4425 - accuracy: 0.8034\n",
      "Epoch 10/100\n",
      "417/417 [==============================] - 0s 333us/step - loss: 0.4412 - accuracy: 0.8058\n",
      "Epoch 11/100\n",
      "417/417 [==============================] - 0s 339us/step - loss: 0.4397 - accuracy: 0.8034\n",
      "Epoch 12/100\n",
      "417/417 [==============================] - 0s 335us/step - loss: 0.4380 - accuracy: 0.8034\n",
      "Epoch 13/100\n",
      "417/417 [==============================] - 0s 335us/step - loss: 0.4358 - accuracy: 0.8106\n",
      "Epoch 14/100\n",
      "417/417 [==============================] - 0s 331us/step - loss: 0.4346 - accuracy: 0.8106\n",
      "Epoch 15/100\n",
      "417/417 [==============================] - 0s 340us/step - loss: 0.4340 - accuracy: 0.8118\n",
      "Epoch 16/100\n",
      "417/417 [==============================] - 0s 337us/step - loss: 0.4334 - accuracy: 0.8118\n",
      "Epoch 17/100\n",
      "417/417 [==============================] - 0s 332us/step - loss: 0.4307 - accuracy: 0.8058\n",
      "Epoch 18/100\n",
      "417/417 [==============================] - 0s 329us/step - loss: 0.4308 - accuracy: 0.8070\n",
      "Epoch 19/100\n",
      "417/417 [==============================] - 0s 331us/step - loss: 0.4280 - accuracy: 0.8189\n",
      "Epoch 20/100\n",
      "417/417 [==============================] - 0s 328us/step - loss: 0.4316 - accuracy: 0.8153\n",
      "Epoch 21/100\n",
      "417/417 [==============================] - 0s 330us/step - loss: 0.4299 - accuracy: 0.8129\n",
      "Epoch 22/100\n",
      "417/417 [==============================] - 0s 329us/step - loss: 0.4271 - accuracy: 0.8177\n",
      "Epoch 23/100\n",
      "417/417 [==============================] - 0s 346us/step - loss: 0.4242 - accuracy: 0.8213\n",
      "Epoch 24/100\n",
      "417/417 [==============================] - 0s 337us/step - loss: 0.4234 - accuracy: 0.8189\n",
      "Epoch 25/100\n",
      "417/417 [==============================] - 0s 336us/step - loss: 0.4254 - accuracy: 0.8273\n",
      "Epoch 26/100\n",
      "417/417 [==============================] - 0s 336us/step - loss: 0.4247 - accuracy: 0.8106\n",
      "Epoch 27/100\n",
      "417/417 [==============================] - 0s 336us/step - loss: 0.4233 - accuracy: 0.8213\n",
      "Epoch 28/100\n",
      "417/417 [==============================] - 0s 339us/step - loss: 0.4206 - accuracy: 0.8177\n",
      "Epoch 29/100\n",
      "417/417 [==============================] - 0s 336us/step - loss: 0.4216 - accuracy: 0.8177\n",
      "Epoch 30/100\n",
      "417/417 [==============================] - 0s 337us/step - loss: 0.4204 - accuracy: 0.8249\n",
      "Epoch 31/100\n",
      "417/417 [==============================] - 0s 338us/step - loss: 0.4206 - accuracy: 0.8177\n",
      "Epoch 32/100\n",
      "417/417 [==============================] - 0s 342us/step - loss: 0.4209 - accuracy: 0.8177\n",
      "Epoch 33/100\n",
      "417/417 [==============================] - 0s 337us/step - loss: 0.4191 - accuracy: 0.8225\n",
      "Epoch 34/100\n",
      "417/417 [==============================] - 0s 351us/step - loss: 0.4188 - accuracy: 0.8189\n",
      "Epoch 35/100\n",
      "417/417 [==============================] - 0s 339us/step - loss: 0.4183 - accuracy: 0.8118\n",
      "Epoch 36/100\n",
      "417/417 [==============================] - 0s 340us/step - loss: 0.4176 - accuracy: 0.8237\n",
      "Epoch 37/100\n",
      "417/417 [==============================] - 0s 341us/step - loss: 0.4172 - accuracy: 0.8165\n",
      "Epoch 38/100\n",
      "417/417 [==============================] - 0s 337us/step - loss: 0.4171 - accuracy: 0.8249\n",
      "Epoch 39/100\n",
      "417/417 [==============================] - 0s 341us/step - loss: 0.4170 - accuracy: 0.8189\n",
      "Epoch 40/100\n",
      "417/417 [==============================] - 0s 336us/step - loss: 0.4161 - accuracy: 0.8225\n",
      "Epoch 41/100\n",
      "417/417 [==============================] - 0s 341us/step - loss: 0.4175 - accuracy: 0.8213\n",
      "Epoch 42/100\n",
      "417/417 [==============================] - 0s 338us/step - loss: 0.4168 - accuracy: 0.8225\n",
      "Epoch 43/100\n",
      "417/417 [==============================] - 0s 338us/step - loss: 0.4167 - accuracy: 0.8153\n",
      "Epoch 44/100\n",
      "417/417 [==============================] - 0s 349us/step - loss: 0.4140 - accuracy: 0.8237\n",
      "Epoch 45/100\n",
      "417/417 [==============================] - 0s 339us/step - loss: 0.4158 - accuracy: 0.8141\n",
      "Epoch 46/100\n",
      "417/417 [==============================] - 0s 342us/step - loss: 0.4149 - accuracy: 0.8249\n",
      "Epoch 47/100\n",
      "417/417 [==============================] - 0s 338us/step - loss: 0.4163 - accuracy: 0.8213\n",
      "Epoch 48/100\n",
      "417/417 [==============================] - 0s 339us/step - loss: 0.4120 - accuracy: 0.8261\n",
      "Epoch 49/100\n",
      "417/417 [==============================] - 0s 339us/step - loss: 0.4135 - accuracy: 0.8165\n",
      "Epoch 50/100\n",
      "417/417 [==============================] - 0s 337us/step - loss: 0.4125 - accuracy: 0.8213\n",
      "Epoch 51/100\n",
      "417/417 [==============================] - 0s 344us/step - loss: 0.4128 - accuracy: 0.8225\n",
      "Epoch 52/100\n",
      "417/417 [==============================] - 0s 338us/step - loss: 0.4132 - accuracy: 0.8237\n",
      "Epoch 53/100\n",
      "417/417 [==============================] - 0s 337us/step - loss: 0.4122 - accuracy: 0.8237\n",
      "Epoch 54/100\n",
      "417/417 [==============================] - 0s 339us/step - loss: 0.4110 - accuracy: 0.8249\n",
      "Epoch 55/100\n",
      "417/417 [==============================] - 0s 335us/step - loss: 0.4104 - accuracy: 0.8225\n",
      "Epoch 56/100\n",
      "417/417 [==============================] - 0s 356us/step - loss: 0.4108 - accuracy: 0.8225\n",
      "Epoch 57/100\n",
      "417/417 [==============================] - 0s 334us/step - loss: 0.4125 - accuracy: 0.8141\n",
      "Epoch 58/100\n",
      "417/417 [==============================] - 0s 336us/step - loss: 0.4120 - accuracy: 0.8237\n",
      "Epoch 59/100\n",
      "417/417 [==============================] - 0s 344us/step - loss: 0.4101 - accuracy: 0.8225\n",
      "Epoch 60/100\n",
      "417/417 [==============================] - 0s 333us/step - loss: 0.4093 - accuracy: 0.8225\n",
      "Epoch 61/100\n",
      "417/417 [==============================] - 0s 331us/step - loss: 0.4107 - accuracy: 0.8273\n",
      "Epoch 62/100\n",
      "417/417 [==============================] - 0s 332us/step - loss: 0.4099 - accuracy: 0.8249\n",
      "Epoch 63/100\n",
      "417/417 [==============================] - 0s 336us/step - loss: 0.4082 - accuracy: 0.8249\n",
      "Epoch 64/100\n",
      "417/417 [==============================] - 0s 346us/step - loss: 0.4104 - accuracy: 0.8273\n",
      "Epoch 65/100\n",
      "417/417 [==============================] - 0s 361us/step - loss: 0.4068 - accuracy: 0.8273\n",
      "Epoch 66/100\n",
      "417/417 [==============================] - 0s 336us/step - loss: 0.4116 - accuracy: 0.8141\n",
      "Epoch 67/100\n",
      "417/417 [==============================] - 0s 348us/step - loss: 0.4106 - accuracy: 0.8249\n",
      "Epoch 68/100\n",
      "417/417 [==============================] - 0s 335us/step - loss: 0.4112 - accuracy: 0.8141\n",
      "Epoch 69/100\n",
      "417/417 [==============================] - 0s 334us/step - loss: 0.4093 - accuracy: 0.8213\n",
      "Epoch 70/100\n",
      "417/417 [==============================] - 0s 347us/step - loss: 0.4071 - accuracy: 0.8273\n",
      "Epoch 71/100\n",
      "417/417 [==============================] - 0s 337us/step - loss: 0.4082 - accuracy: 0.8201\n",
      "Epoch 72/100\n",
      "417/417 [==============================] - 0s 335us/step - loss: 0.4085 - accuracy: 0.8201\n",
      "Epoch 73/100\n",
      "417/417 [==============================] - 0s 333us/step - loss: 0.4073 - accuracy: 0.8201\n",
      "Epoch 74/100\n",
      "417/417 [==============================] - 0s 333us/step - loss: 0.4080 - accuracy: 0.8201\n",
      "Epoch 75/100\n",
      "417/417 [==============================] - 0s 331us/step - loss: 0.4083 - accuracy: 0.8261\n",
      "Epoch 76/100\n",
      "417/417 [==============================] - 0s 334us/step - loss: 0.4068 - accuracy: 0.8261\n",
      "Epoch 77/100\n",
      "417/417 [==============================] - 0s 330us/step - loss: 0.4063 - accuracy: 0.8249\n",
      "Epoch 78/100\n",
      "417/417 [==============================] - 0s 369us/step - loss: 0.4065 - accuracy: 0.8261\n",
      "Epoch 79/100\n",
      "417/417 [==============================] - 0s 379us/step - loss: 0.4066 - accuracy: 0.8273\n"
     ]
    },
    {
     "name": "stdout",
     "output_type": "stream",
     "text": [
      "Epoch 80/100\n",
      "417/417 [==============================] - 0s 384us/step - loss: 0.4050 - accuracy: 0.8249\n",
      "Epoch 81/100\n",
      "417/417 [==============================] - 0s 373us/step - loss: 0.4037 - accuracy: 0.8309\n",
      "Epoch 82/100\n",
      "417/417 [==============================] - 0s 382us/step - loss: 0.4063 - accuracy: 0.8321\n",
      "Epoch 83/100\n",
      "417/417 [==============================] - 0s 360us/step - loss: 0.4037 - accuracy: 0.8261\n",
      "Epoch 84/100\n",
      "417/417 [==============================] - 0s 359us/step - loss: 0.4027 - accuracy: 0.8309\n",
      "Epoch 85/100\n",
      "417/417 [==============================] - 0s 364us/step - loss: 0.4030 - accuracy: 0.8249\n",
      "Epoch 86/100\n",
      "417/417 [==============================] - 0s 362us/step - loss: 0.4059 - accuracy: 0.8225\n",
      "Epoch 87/100\n",
      "417/417 [==============================] - 0s 365us/step - loss: 0.4066 - accuracy: 0.8249\n",
      "Epoch 88/100\n",
      "417/417 [==============================] - 0s 340us/step - loss: 0.4000 - accuracy: 0.8285\n",
      "Epoch 89/100\n",
      "417/417 [==============================] - 0s 327us/step - loss: 0.4038 - accuracy: 0.8261\n",
      "Epoch 90/100\n",
      "417/417 [==============================] - 0s 329us/step - loss: 0.4058 - accuracy: 0.8285\n",
      "Epoch 91/100\n",
      "417/417 [==============================] - 0s 324us/step - loss: 0.4044 - accuracy: 0.8237\n",
      "Epoch 92/100\n",
      "417/417 [==============================] - 0s 328us/step - loss: 0.4035 - accuracy: 0.8285\n",
      "Epoch 93/100\n",
      "417/417 [==============================] - 0s 326us/step - loss: 0.4016 - accuracy: 0.8237\n",
      "Epoch 94/100\n",
      "417/417 [==============================] - 0s 328us/step - loss: 0.4030 - accuracy: 0.8297\n",
      "Epoch 95/100\n",
      "417/417 [==============================] - 0s 327us/step - loss: 0.4025 - accuracy: 0.8249\n",
      "Epoch 96/100\n",
      "417/417 [==============================] - 0s 330us/step - loss: 0.4013 - accuracy: 0.8285\n",
      "Epoch 97/100\n",
      "417/417 [==============================] - 0s 324us/step - loss: 0.4023 - accuracy: 0.8261\n",
      "Epoch 98/100\n",
      "417/417 [==============================] - 0s 324us/step - loss: 0.4019 - accuracy: 0.8249\n",
      "Epoch 99/100\n",
      "417/417 [==============================] - 0s 326us/step - loss: 0.3990 - accuracy: 0.8321\n",
      "Epoch 100/100\n",
      "417/417 [==============================] - 0s 328us/step - loss: 0.4016 - accuracy: 0.8261\n"
     ]
    },
    {
     "data": {
      "text/plain": [
       "<keras.callbacks.History at 0x30970bfd0>"
      ]
     },
     "execution_count": 9,
     "metadata": {},
     "output_type": "execute_result"
    }
   ],
   "source": [
    "# train the ANN on the training set\n",
    "ann.fit(X_train, y_train, batch_size=2, epochs=100)"
   ]
  },
  {
   "cell_type": "code",
   "execution_count": 10,
   "id": "fd905a7c",
   "metadata": {},
   "outputs": [
    {
     "name": "stdout",
     "output_type": "stream",
     "text": [
      "7/7 [==============================] - 0s 429us/step\n",
      "Accuracy: 0.8181818181818182\n",
      "Precision: 0.8\n",
      "F1 Score: 0.759493670886076\n"
     ]
    }
   ],
   "source": [
    "# evaluate the model on test data\n",
    "y_pred = ann.predict(X_test)\n",
    "y_pred = (y_pred>0.5)\n",
    "\n",
    "# accuracy\n",
    "accuracy = accuracy_score(y_test, y_pred)\n",
    "print(f'Accuracy: {accuracy}')\n",
    "\n",
    "# precision\n",
    "precision = precision_score(y_test, y_pred)\n",
    "print(f'Precision: {precision}')\n",
    "\n",
    "# f1 score\n",
    "f1_score = f1_score(y_test, y_pred)\n",
    "print(f'F1 Score: {f1_score}')"
   ]
  },
  {
   "cell_type": "code",
   "execution_count": 11,
   "id": "914e67f3",
   "metadata": {},
   "outputs": [
    {
     "name": "stdout",
     "output_type": "stream",
     "text": [
      "INFO:tensorflow:Assets written to: /var/folders/9r/8xlgm3yj4gj9dndpdbqg4xd00000gn/T/tmpa94lww1h/assets\n"
     ]
    },
    {
     "name": "stderr",
     "output_type": "stream",
     "text": [
      "2024-05-12 21:31:03.396932: W tensorflow/compiler/mlir/lite/python/tf_tfl_flatbuffer_helpers.cc:364] Ignored output_format.\n",
      "2024-05-12 21:31:03.396945: W tensorflow/compiler/mlir/lite/python/tf_tfl_flatbuffer_helpers.cc:367] Ignored drop_control_dependency.\n",
      "2024-05-12 21:31:03.397270: I tensorflow/cc/saved_model/reader.cc:45] Reading SavedModel from: /var/folders/9r/8xlgm3yj4gj9dndpdbqg4xd00000gn/T/tmpa94lww1h\n",
      "2024-05-12 21:31:03.397960: I tensorflow/cc/saved_model/reader.cc:89] Reading meta graph with tags { serve }\n",
      "2024-05-12 21:31:03.397964: I tensorflow/cc/saved_model/reader.cc:130] Reading SavedModel debug info (if present) from: /var/folders/9r/8xlgm3yj4gj9dndpdbqg4xd00000gn/T/tmpa94lww1h\n",
      "2024-05-12 21:31:03.400237: I tensorflow/compiler/mlir/mlir_graph_optimization_pass.cc:353] MLIR V1 optimization pass is not enabled\n",
      "2024-05-12 21:31:03.400875: I tensorflow/cc/saved_model/loader.cc:231] Restoring SavedModel bundle.\n",
      "2024-05-12 21:31:03.429908: I tensorflow/cc/saved_model/loader.cc:215] Running initialization op on SavedModel bundle at path: /var/folders/9r/8xlgm3yj4gj9dndpdbqg4xd00000gn/T/tmpa94lww1h\n",
      "2024-05-12 21:31:03.437745: I tensorflow/cc/saved_model/loader.cc:314] SavedModel load for tags { serve }; Status: success: OK. Took 40479 microseconds.\n",
      "2024-05-12 21:31:03.450506: I tensorflow/compiler/mlir/tensorflow/utils/dump_mlir_util.cc:269] disabling MLIR crash reproducer, set env var `MLIR_CRASH_REPRODUCER_DIRECTORY` to enable.\n"
     ]
    }
   ],
   "source": [
    "# convert ANN model to TensorFlow Lite model\n",
    "converter = tf.lite.TFLiteConverter.from_keras_model(ann)\n",
    "tflite_model = converter.convert()"
   ]
  },
  {
   "cell_type": "code",
   "execution_count": 12,
   "id": "a741a508",
   "metadata": {},
   "outputs": [],
   "source": [
    "with open('ann_model.tflite', 'wb') as f:\n",
    "    f.write(tflite_model)"
   ]
  }
 ],
 "metadata": {
  "kernelspec": {
   "display_name": "Python 3 (ipykernel)",
   "language": "python",
   "name": "python3"
  },
  "language_info": {
   "codemirror_mode": {
    "name": "ipython",
    "version": 3
   },
   "file_extension": ".py",
   "mimetype": "text/x-python",
   "name": "python",
   "nbconvert_exporter": "python",
   "pygments_lexer": "ipython3",
   "version": "3.11.5"
  }
 },
 "nbformat": 4,
 "nbformat_minor": 5
}
