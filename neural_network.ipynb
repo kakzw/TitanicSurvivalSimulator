{
 "cells": [
  {
   "cell_type": "code",
   "execution_count": 1,
   "id": "ec89cbe7",
   "metadata": {},
   "outputs": [],
   "source": [
    "import numpy as np\n",
    "import pandas as pd\n",
    "import tensorflow as tf\n",
    "from sklearn.model_selection import train_test_split\n",
    "from sklearn.preprocessing import StandardScaler\n",
    "from sklearn.compose import ColumnTransformer\n",
    "from sklearn.preprocessing import OneHotEncoder\n",
    "from sklearn.preprocessing import LabelEncoder\n",
    "from sklearn.metrics import accuracy_score\n",
    "from sklearn.metrics import f1_score"
   ]
  },
  {
   "cell_type": "code",
   "execution_count": 2,
   "id": "1bd850af",
   "metadata": {},
   "outputs": [],
   "source": [
    "data = pd.read_csv('titanic.csv')"
   ]
  },
  {
   "cell_type": "code",
   "execution_count": 3,
   "id": "c421a2af",
   "metadata": {},
   "outputs": [],
   "source": [
    "# select relevant features (columns) for training\n",
    "features = [\"pclass\", \"sex\", \"age\", \"sibsp\", \"parch\", \"fare\", \"embarked\"]\n",
    "target = \"survived\"\n",
    "\n",
    "# handle missing values\n",
    "data = data[features + [target]].dropna()\n",
    "\n",
    "X = data[features]\n",
    "y = data[target]"
   ]
  },
  {
   "cell_type": "markdown",
   "id": "c9a0cda8",
   "metadata": {},
   "source": [
    "## Preprocessing"
   ]
  },
  {
   "cell_type": "code",
   "execution_count": 4,
   "id": "b363bda1",
   "metadata": {},
   "outputs": [
    {
     "name": "stderr",
     "output_type": "stream",
     "text": [
      "/var/folders/9r/8xlgm3yj4gj9dndpdbqg4xd00000gn/T/ipykernel_5634/1837508742.py:2: SettingWithCopyWarning: \n",
      "A value is trying to be set on a copy of a slice from a DataFrame.\n",
      "Try using .loc[row_indexer,col_indexer] = value instead\n",
      "\n",
      "See the caveats in the documentation: https://pandas.pydata.org/pandas-docs/stable/user_guide/indexing.html#returning-a-view-versus-a-copy\n",
      "  X[\"sex\"] = (X[\"sex\"] == \"female\").astype(int)\n"
     ]
    }
   ],
   "source": [
    "# transform binary categorical variables to 1/0\n",
    "X[\"sex\"] = (X[\"sex\"] == \"female\").astype(int)\n",
    "\n",
    "# transform categorical variables to matrix\n",
    "ct = ColumnTransformer(transformers=[('encoder', OneHotEncoder(), ['embarked'])], remainder='passthrough')\n",
    "X = np.array(ct.fit_transform(X))"
   ]
  },
  {
   "cell_type": "code",
   "execution_count": 5,
   "id": "34b2ab76",
   "metadata": {},
   "outputs": [],
   "source": [
    "X_train, X_test, y_train, y_test = train_test_split(X, y, test_size=0.2, random_state=0)"
   ]
  },
  {
   "cell_type": "code",
   "execution_count": 6,
   "id": "872f4954",
   "metadata": {},
   "outputs": [],
   "source": [
    "sc = StandardScaler()\n",
    "X_train = sc.fit_transform(X_train)\n",
    "X_test = sc.transform(X_test)"
   ]
  },
  {
   "cell_type": "markdown",
   "id": "57fd1602",
   "metadata": {},
   "source": [
    "## Building the ANN"
   ]
  },
  {
   "cell_type": "code",
   "execution_count": 7,
   "id": "34c01079",
   "metadata": {},
   "outputs": [],
   "source": [
    "ann = tf.keras.models.Sequential()\n",
    "\n",
    "# add the input layer and the first hidden layer\n",
    "ann.add(tf.keras.layers.Dense(units=6,activation='relu'))\n",
    "\n",
    "# add hidden layers\n",
    "for _ in range(3):\n",
    "    ann.add(tf.keras.layers.Dense(units=6, activation='relu'))\n",
    "\n",
    "# add the output layer\n",
    "ann.add(tf.keras.layers.Dense(units=1,activation='sigmoid'))"
   ]
  },
  {
   "cell_type": "markdown",
   "id": "5626d042",
   "metadata": {},
   "source": [
    "## Training the ANN"
   ]
  },
  {
   "cell_type": "code",
   "execution_count": 8,
   "id": "45c88f3f",
   "metadata": {},
   "outputs": [],
   "source": [
    "# compile the ANN\n",
    "ann.compile(optimizer='adam', loss='binary_crossentropy', metrics=['accuracy'])"
   ]
  },
  {
   "cell_type": "code",
   "execution_count": 9,
   "id": "20a9d6f1",
   "metadata": {},
   "outputs": [
    {
     "name": "stdout",
     "output_type": "stream",
     "text": [
      "Epoch 1/100\n"
     ]
    },
    {
     "name": "stderr",
     "output_type": "stream",
     "text": [
      "2024-05-10 12:41:24.601734: W tensorflow/tsl/platform/profile_utils/cpu_utils.cc:128] Failed to get CPU frequency: 0 Hz\n"
     ]
    },
    {
     "name": "stdout",
     "output_type": "stream",
     "text": [
      "417/417 [==============================] - 0s 375us/step - loss: 0.6524 - accuracy: 0.7050\n",
      "Epoch 2/100\n",
      "417/417 [==============================] - 0s 343us/step - loss: 0.5132 - accuracy: 0.7830\n",
      "Epoch 3/100\n",
      "417/417 [==============================] - 0s 343us/step - loss: 0.4570 - accuracy: 0.7974\n",
      "Epoch 4/100\n",
      "417/417 [==============================] - 0s 344us/step - loss: 0.4480 - accuracy: 0.8189\n",
      "Epoch 5/100\n",
      "417/417 [==============================] - 0s 370us/step - loss: 0.4393 - accuracy: 0.8141\n",
      "Epoch 6/100\n",
      "417/417 [==============================] - 0s 370us/step - loss: 0.4356 - accuracy: 0.8141\n",
      "Epoch 7/100\n",
      "417/417 [==============================] - 0s 330us/step - loss: 0.4342 - accuracy: 0.8165\n",
      "Epoch 8/100\n",
      "417/417 [==============================] - 0s 339us/step - loss: 0.4335 - accuracy: 0.8106\n",
      "Epoch 9/100\n",
      "417/417 [==============================] - 0s 329us/step - loss: 0.4333 - accuracy: 0.8177\n",
      "Epoch 10/100\n",
      "417/417 [==============================] - 0s 330us/step - loss: 0.4310 - accuracy: 0.8213\n",
      "Epoch 11/100\n",
      "417/417 [==============================] - 0s 332us/step - loss: 0.4290 - accuracy: 0.8177\n",
      "Epoch 12/100\n",
      "417/417 [==============================] - 0s 332us/step - loss: 0.4308 - accuracy: 0.8141\n",
      "Epoch 13/100\n",
      "417/417 [==============================] - 0s 332us/step - loss: 0.4287 - accuracy: 0.8129\n",
      "Epoch 14/100\n",
      "417/417 [==============================] - 0s 334us/step - loss: 0.4289 - accuracy: 0.8118\n",
      "Epoch 15/100\n",
      "417/417 [==============================] - 0s 333us/step - loss: 0.4254 - accuracy: 0.8118\n",
      "Epoch 16/100\n",
      "417/417 [==============================] - 0s 332us/step - loss: 0.4241 - accuracy: 0.8261\n",
      "Epoch 17/100\n",
      "417/417 [==============================] - 0s 334us/step - loss: 0.4229 - accuracy: 0.8177\n",
      "Epoch 18/100\n",
      "417/417 [==============================] - 0s 333us/step - loss: 0.4210 - accuracy: 0.8261\n",
      "Epoch 19/100\n",
      "417/417 [==============================] - 0s 335us/step - loss: 0.4228 - accuracy: 0.8141\n",
      "Epoch 20/100\n",
      "417/417 [==============================] - 0s 330us/step - loss: 0.4191 - accuracy: 0.8213\n",
      "Epoch 21/100\n",
      "417/417 [==============================] - 0s 325us/step - loss: 0.4200 - accuracy: 0.8261\n",
      "Epoch 22/100\n",
      "417/417 [==============================] - 0s 333us/step - loss: 0.4183 - accuracy: 0.8201\n",
      "Epoch 23/100\n",
      "417/417 [==============================] - 0s 330us/step - loss: 0.4189 - accuracy: 0.8237\n",
      "Epoch 24/100\n",
      "417/417 [==============================] - 0s 334us/step - loss: 0.4185 - accuracy: 0.8237\n",
      "Epoch 25/100\n",
      "417/417 [==============================] - 0s 335us/step - loss: 0.4164 - accuracy: 0.8249\n",
      "Epoch 26/100\n",
      "417/417 [==============================] - 0s 333us/step - loss: 0.4123 - accuracy: 0.8297\n",
      "Epoch 27/100\n",
      "417/417 [==============================] - 0s 335us/step - loss: 0.4147 - accuracy: 0.8285\n",
      "Epoch 28/100\n",
      "417/417 [==============================] - 0s 342us/step - loss: 0.4120 - accuracy: 0.8201\n",
      "Epoch 29/100\n",
      "417/417 [==============================] - 0s 333us/step - loss: 0.4141 - accuracy: 0.8261\n",
      "Epoch 30/100\n",
      "417/417 [==============================] - 0s 333us/step - loss: 0.4120 - accuracy: 0.8285\n",
      "Epoch 31/100\n",
      "417/417 [==============================] - 0s 333us/step - loss: 0.4124 - accuracy: 0.8213\n",
      "Epoch 32/100\n",
      "417/417 [==============================] - 0s 334us/step - loss: 0.4108 - accuracy: 0.8309\n",
      "Epoch 33/100\n",
      "417/417 [==============================] - 0s 331us/step - loss: 0.4080 - accuracy: 0.8237\n",
      "Epoch 34/100\n",
      "417/417 [==============================] - 0s 334us/step - loss: 0.4098 - accuracy: 0.8225\n",
      "Epoch 35/100\n",
      "417/417 [==============================] - 0s 350us/step - loss: 0.4101 - accuracy: 0.8285\n",
      "Epoch 36/100\n",
      "417/417 [==============================] - 0s 332us/step - loss: 0.4077 - accuracy: 0.8201\n",
      "Epoch 37/100\n",
      "417/417 [==============================] - 0s 333us/step - loss: 0.4067 - accuracy: 0.8237\n",
      "Epoch 38/100\n",
      "417/417 [==============================] - 0s 335us/step - loss: 0.4092 - accuracy: 0.8225\n",
      "Epoch 39/100\n",
      "417/417 [==============================] - 0s 334us/step - loss: 0.4084 - accuracy: 0.8225\n",
      "Epoch 40/100\n",
      "417/417 [==============================] - 0s 335us/step - loss: 0.4066 - accuracy: 0.8285\n",
      "Epoch 41/100\n",
      "417/417 [==============================] - 0s 334us/step - loss: 0.4060 - accuracy: 0.8261\n",
      "Epoch 42/100\n",
      "417/417 [==============================] - 0s 333us/step - loss: 0.4066 - accuracy: 0.8249\n",
      "Epoch 43/100\n",
      "417/417 [==============================] - 0s 332us/step - loss: 0.4055 - accuracy: 0.8237\n",
      "Epoch 44/100\n",
      "417/417 [==============================] - 0s 335us/step - loss: 0.4060 - accuracy: 0.8309\n",
      "Epoch 45/100\n",
      "417/417 [==============================] - 0s 335us/step - loss: 0.4055 - accuracy: 0.8237\n",
      "Epoch 46/100\n",
      "417/417 [==============================] - 0s 334us/step - loss: 0.4065 - accuracy: 0.8213\n",
      "Epoch 47/100\n",
      "417/417 [==============================] - 0s 333us/step - loss: 0.4015 - accuracy: 0.8273\n",
      "Epoch 48/100\n",
      "417/417 [==============================] - 0s 333us/step - loss: 0.4056 - accuracy: 0.8261\n",
      "Epoch 49/100\n",
      "417/417 [==============================] - 0s 330us/step - loss: 0.4010 - accuracy: 0.8285\n",
      "Epoch 50/100\n",
      "417/417 [==============================] - 0s 335us/step - loss: 0.4024 - accuracy: 0.8285\n",
      "Epoch 51/100\n",
      "417/417 [==============================] - 0s 335us/step - loss: 0.4018 - accuracy: 0.8357\n",
      "Epoch 52/100\n",
      "417/417 [==============================] - 0s 344us/step - loss: 0.4015 - accuracy: 0.8393\n",
      "Epoch 53/100\n",
      "417/417 [==============================] - 0s 331us/step - loss: 0.4021 - accuracy: 0.8273\n",
      "Epoch 54/100\n",
      "417/417 [==============================] - 0s 334us/step - loss: 0.3993 - accuracy: 0.8297\n",
      "Epoch 55/100\n",
      "417/417 [==============================] - 0s 334us/step - loss: 0.3976 - accuracy: 0.8297\n",
      "Epoch 56/100\n",
      "417/417 [==============================] - 0s 333us/step - loss: 0.4013 - accuracy: 0.8237\n",
      "Epoch 57/100\n",
      "417/417 [==============================] - 0s 334us/step - loss: 0.4007 - accuracy: 0.8309\n",
      "Epoch 58/100\n",
      "417/417 [==============================] - 0s 333us/step - loss: 0.4002 - accuracy: 0.8357\n",
      "Epoch 59/100\n",
      "417/417 [==============================] - 0s 334us/step - loss: 0.4000 - accuracy: 0.8273\n",
      "Epoch 60/100\n",
      "417/417 [==============================] - 0s 333us/step - loss: 0.3979 - accuracy: 0.8309\n",
      "Epoch 61/100\n",
      "417/417 [==============================] - 0s 334us/step - loss: 0.3995 - accuracy: 0.8309\n",
      "Epoch 62/100\n",
      "417/417 [==============================] - 0s 331us/step - loss: 0.3997 - accuracy: 0.8285\n",
      "Epoch 63/100\n",
      "417/417 [==============================] - 0s 339us/step - loss: 0.3927 - accuracy: 0.8357\n",
      "Epoch 64/100\n",
      "417/417 [==============================] - 0s 332us/step - loss: 0.3999 - accuracy: 0.8345\n",
      "Epoch 65/100\n",
      "417/417 [==============================] - 0s 345us/step - loss: 0.3971 - accuracy: 0.8369\n",
      "Epoch 66/100\n",
      "417/417 [==============================] - 0s 334us/step - loss: 0.3960 - accuracy: 0.8345\n",
      "Epoch 67/100\n",
      "417/417 [==============================] - 0s 335us/step - loss: 0.3976 - accuracy: 0.8309\n",
      "Epoch 68/100\n",
      "417/417 [==============================] - 0s 334us/step - loss: 0.3982 - accuracy: 0.8333\n",
      "Epoch 69/100\n",
      "417/417 [==============================] - 0s 351us/step - loss: 0.3956 - accuracy: 0.8345\n",
      "Epoch 70/100\n",
      "417/417 [==============================] - 0s 352us/step - loss: 0.3962 - accuracy: 0.8357\n",
      "Epoch 71/100\n",
      "417/417 [==============================] - 0s 336us/step - loss: 0.3956 - accuracy: 0.8321\n",
      "Epoch 72/100\n",
      "417/417 [==============================] - 0s 402us/step - loss: 0.3982 - accuracy: 0.8333\n",
      "Epoch 73/100\n",
      "417/417 [==============================] - 0s 401us/step - loss: 0.3928 - accuracy: 0.8369\n",
      "Epoch 74/100\n",
      "417/417 [==============================] - 0s 352us/step - loss: 0.3947 - accuracy: 0.8333\n",
      "Epoch 75/100\n",
      "417/417 [==============================] - 0s 334us/step - loss: 0.3934 - accuracy: 0.8345\n",
      "Epoch 76/100\n",
      "417/417 [==============================] - 0s 333us/step - loss: 0.3934 - accuracy: 0.8357\n",
      "Epoch 77/100\n",
      "417/417 [==============================] - 0s 346us/step - loss: 0.3929 - accuracy: 0.8345\n",
      "Epoch 78/100\n",
      "417/417 [==============================] - 0s 336us/step - loss: 0.3933 - accuracy: 0.8297\n",
      "Epoch 79/100\n",
      "417/417 [==============================] - 0s 344us/step - loss: 0.3912 - accuracy: 0.8321\n"
     ]
    },
    {
     "name": "stdout",
     "output_type": "stream",
     "text": [
      "Epoch 80/100\n",
      "417/417 [==============================] - 0s 331us/step - loss: 0.3947 - accuracy: 0.8321\n",
      "Epoch 81/100\n",
      "417/417 [==============================] - 0s 337us/step - loss: 0.3921 - accuracy: 0.8273\n",
      "Epoch 82/100\n",
      "417/417 [==============================] - 0s 328us/step - loss: 0.3925 - accuracy: 0.8297\n",
      "Epoch 83/100\n",
      "417/417 [==============================] - 0s 328us/step - loss: 0.3901 - accuracy: 0.8357\n",
      "Epoch 84/100\n",
      "417/417 [==============================] - 0s 329us/step - loss: 0.3860 - accuracy: 0.8357\n",
      "Epoch 85/100\n",
      "417/417 [==============================] - 0s 328us/step - loss: 0.3956 - accuracy: 0.8261\n",
      "Epoch 86/100\n",
      "417/417 [==============================] - 0s 329us/step - loss: 0.3893 - accuracy: 0.8357\n",
      "Epoch 87/100\n",
      "417/417 [==============================] - 0s 330us/step - loss: 0.3924 - accuracy: 0.8297\n",
      "Epoch 88/100\n",
      "417/417 [==============================] - 0s 328us/step - loss: 0.3898 - accuracy: 0.8369\n",
      "Epoch 89/100\n",
      "417/417 [==============================] - 0s 330us/step - loss: 0.3871 - accuracy: 0.8285\n",
      "Epoch 90/100\n",
      "417/417 [==============================] - 0s 328us/step - loss: 0.3881 - accuracy: 0.8369\n",
      "Epoch 91/100\n",
      "417/417 [==============================] - 0s 367us/step - loss: 0.3913 - accuracy: 0.8369\n",
      "Epoch 92/100\n",
      "417/417 [==============================] - 0s 367us/step - loss: 0.3892 - accuracy: 0.8357\n",
      "Epoch 93/100\n",
      "417/417 [==============================] - 0s 367us/step - loss: 0.3871 - accuracy: 0.8333\n",
      "Epoch 94/100\n",
      "417/417 [==============================] - 0s 364us/step - loss: 0.3886 - accuracy: 0.8381\n",
      "Epoch 95/100\n",
      "417/417 [==============================] - 0s 372us/step - loss: 0.3883 - accuracy: 0.8261\n",
      "Epoch 96/100\n",
      "417/417 [==============================] - 0s 340us/step - loss: 0.3877 - accuracy: 0.8297\n",
      "Epoch 97/100\n",
      "417/417 [==============================] - 0s 331us/step - loss: 0.3876 - accuracy: 0.8321\n",
      "Epoch 98/100\n",
      "417/417 [==============================] - 0s 328us/step - loss: 0.3885 - accuracy: 0.8321\n",
      "Epoch 99/100\n",
      "417/417 [==============================] - 0s 328us/step - loss: 0.3867 - accuracy: 0.8261\n",
      "Epoch 100/100\n",
      "417/417 [==============================] - 0s 328us/step - loss: 0.3877 - accuracy: 0.8405\n"
     ]
    },
    {
     "data": {
      "text/plain": [
       "<keras.callbacks.History at 0x303572910>"
      ]
     },
     "execution_count": 9,
     "metadata": {},
     "output_type": "execute_result"
    }
   ],
   "source": [
    "# train the ANN on the training set\n",
    "ann.fit(X_train, y_train, batch_size=2, epochs=100)"
   ]
  },
  {
   "cell_type": "code",
   "execution_count": 10,
   "id": "fd905a7c",
   "metadata": {},
   "outputs": [
    {
     "name": "stdout",
     "output_type": "stream",
     "text": [
      "7/7 [==============================] - 0s 401us/step\n",
      "Test Accuracy: 0.8133971291866029\n",
      "F1 Score: [0.84824903 0.75776398]\n"
     ]
    }
   ],
   "source": [
    "# evaluate the model on test data\n",
    "y_pred = ann.predict(X_test)\n",
    "y_pred = (y_pred>0.5)\n",
    "accuracy = accuracy_score(y_test, y_pred)\n",
    "print(f'Test Accuracy: {accuracy}')\n",
    "f1_score = f1_score(y_test, y_pred, average=None)\n",
    "print(f'F1 Score: {f1_score}')"
   ]
  },
  {
   "cell_type": "code",
   "execution_count": 11,
   "id": "914e67f3",
   "metadata": {},
   "outputs": [
    {
     "name": "stdout",
     "output_type": "stream",
     "text": [
      "INFO:tensorflow:Assets written to: /var/folders/9r/8xlgm3yj4gj9dndpdbqg4xd00000gn/T/tmpxgccmb0t/assets\n"
     ]
    },
    {
     "name": "stderr",
     "output_type": "stream",
     "text": [
      "2024-05-10 12:41:39.817227: W tensorflow/compiler/mlir/lite/python/tf_tfl_flatbuffer_helpers.cc:364] Ignored output_format.\n",
      "2024-05-10 12:41:39.817242: W tensorflow/compiler/mlir/lite/python/tf_tfl_flatbuffer_helpers.cc:367] Ignored drop_control_dependency.\n",
      "2024-05-10 12:41:39.818269: I tensorflow/cc/saved_model/reader.cc:45] Reading SavedModel from: /var/folders/9r/8xlgm3yj4gj9dndpdbqg4xd00000gn/T/tmpxgccmb0t\n",
      "2024-05-10 12:41:39.818988: I tensorflow/cc/saved_model/reader.cc:89] Reading meta graph with tags { serve }\n",
      "2024-05-10 12:41:39.818992: I tensorflow/cc/saved_model/reader.cc:130] Reading SavedModel debug info (if present) from: /var/folders/9r/8xlgm3yj4gj9dndpdbqg4xd00000gn/T/tmpxgccmb0t\n",
      "2024-05-10 12:41:39.821695: I tensorflow/compiler/mlir/mlir_graph_optimization_pass.cc:353] MLIR V1 optimization pass is not enabled\n",
      "2024-05-10 12:41:39.822323: I tensorflow/cc/saved_model/loader.cc:231] Restoring SavedModel bundle.\n",
      "2024-05-10 12:41:39.854358: I tensorflow/cc/saved_model/loader.cc:215] Running initialization op on SavedModel bundle at path: /var/folders/9r/8xlgm3yj4gj9dndpdbqg4xd00000gn/T/tmpxgccmb0t\n",
      "2024-05-10 12:41:39.861359: I tensorflow/cc/saved_model/loader.cc:314] SavedModel load for tags { serve }; Status: success: OK. Took 43091 microseconds.\n",
      "2024-05-10 12:41:39.885326: I tensorflow/compiler/mlir/tensorflow/utils/dump_mlir_util.cc:269] disabling MLIR crash reproducer, set env var `MLIR_CRASH_REPRODUCER_DIRECTORY` to enable.\n"
     ]
    }
   ],
   "source": [
    "# convert ANN model to TensorFlow Lite model\n",
    "converter = tf.lite.TFLiteConverter.from_keras_model(ann)\n",
    "tflite_model = converter.convert()"
   ]
  },
  {
   "cell_type": "code",
   "execution_count": 12,
   "id": "a741a508",
   "metadata": {},
   "outputs": [],
   "source": [
    "with open('ann_model.tflite', 'wb') as f:\n",
    "    f.write(tflite_model)"
   ]
  }
 ],
 "metadata": {
  "kernelspec": {
   "display_name": "Python 3 (ipykernel)",
   "language": "python",
   "name": "python3"
  },
  "language_info": {
   "codemirror_mode": {
    "name": "ipython",
    "version": 3
   },
   "file_extension": ".py",
   "mimetype": "text/x-python",
   "name": "python",
   "nbconvert_exporter": "python",
   "pygments_lexer": "ipython3",
   "version": "3.11.5"
  }
 },
 "nbformat": 4,
 "nbformat_minor": 5
}
